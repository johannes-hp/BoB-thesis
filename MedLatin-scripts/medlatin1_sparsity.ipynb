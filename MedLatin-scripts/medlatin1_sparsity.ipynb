{
  "cells": [
    {
      "cell_type": "code",
      "execution_count": 1,
      "metadata": {
        "id": "QdIPNNnGC7m_"
      },
      "outputs": [],
      "source": [
        "import os\n",
        "import re\n",
        "import medlatin\n",
        "import numpy as np\n",
        "import pandas as pd\n",
        "import seaborn as sns"
      ]
    },
    {
      "cell_type": "code",
      "execution_count": 2,
      "metadata": {
        "id": "sM8DRRugDDPm"
      },
      "outputs": [],
      "source": [
        "def sparsity(vector):\n",
        "    \"\"\"\n",
        "    Calculates the sparsity of a vector of elements >= 0.\n",
        "    0 indicates a dense vector, 1 indicates a sparse vector.\n",
        "    See https://math.stackexchange.com/questions/117860/how-to-define-sparseness-of-a-vector.\n",
        "    \"\"\"\n",
        "    L1 = sum(vector)\n",
        "    L2 = np.linalg.norm(vector)\n",
        "    k = len(vector)\n",
        "\n",
        "    sparsity = (np.sqrt(k) - L1 / L2)/(np.sqrt(k) - 1)\n",
        "\n",
        "    return sparsity"
      ]
    },
    {
      "cell_type": "code",
      "execution_count": 3,
      "metadata": {
        "id": "Wc8k3diuBSqd"
      },
      "outputs": [],
      "source": [
        "# load the style vectors from csv files\n",
        "path = 'csvfiles'\n",
        "tfidf_dict = {}\n",
        "for filename in os.listdir(path):\n",
        "    if filename.startswith('tfidf'):\n",
        "        ngram, rank = re.findall('\\d+', filename)\n",
        "        ngram = int(ngram)\n",
        "        rank = int(rank)\n",
        "        if ngram in tfidf_dict:\n",
        "            tfidf_dict[ngram][rank] = np.genfromtxt(os.path.join(path, filename), delimiter=',')\n",
        "        else:\n",
        "            tfidf_dict[ngram] = {}\n",
        "            tfidf_dict[ngram][rank] = np.genfromtxt(os.path.join(path, filename), delimiter=',')"
      ]
    },
    {
      "cell_type": "code",
      "execution_count": 4,
      "metadata": {
        "colab": {
          "base_uri": "https://localhost:8080/"
        },
        "id": "1fhPs2SFHxEX",
        "outputId": "307a430b-47aa-4c0e-f2ad-022e79c741dd"
      },
      "outputs": [
        {
          "name": "stdout",
          "output_type": "stream",
          "text": [
            "Mean sparsity at n=2, r=100: 0.33025763968037447\n",
            "Mean sparsity at n=2, r=200: 0.4345269271831532\n",
            "Mean sparsity at n=2, r=300: 0.5124080061467745\n",
            "Mean sparsity at n=3, r=100: 0.3478194310893455\n",
            "Mean sparsity at n=3, r=200: 0.4084470498825543\n",
            "Mean sparsity at n=3, r=300: 0.44526194146965226\n",
            "Mean sparsity at n=4, r=100: 0.41014357142764624\n",
            "Mean sparsity at n=4, r=200: 0.4589500197955713\n",
            "Mean sparsity at n=4, r=300: 0.48779551836953855\n"
          ]
        }
      ],
      "source": [
        "sparsity_dict = {}\n",
        "\n",
        "for n in tfidf_dict:\n",
        "    sparsity_dict[n] = {}\n",
        "    for r in tfidf_dict[n]:\n",
        "        sparsity_dict[n][r] = [sparsity(vector) for vector in tfidf_dict[n][r]]\n",
        "        print(f'Mean sparsity at n={n}, r={r}: {np.mean(sparsity_dict[n][r])}')"
      ]
    },
    {
      "cell_type": "code",
      "execution_count": 5,
      "metadata": {
        "colab": {
          "base_uri": "https://localhost:8080/"
        },
        "id": "tn4C1sgJINvi",
        "outputId": "10dcf201-915b-4316-ddca-2de477907a82"
      },
      "outputs": [
        {
          "name": "stdout",
          "output_type": "stream",
          "text": [
            "Mean fraction of 0's at n=2, r=100: 0.18180769230769228\n",
            "Mean fraction of 0's at n=2, r=200: 0.3096923076923077\n",
            "Mean fraction of 0's at n=2, r=300: 0.45386538461538467\n",
            "Mean fraction of 0's at n=3, r=100: 0.25782692307692306\n",
            "Mean fraction of 0's at n=3, r=200: 0.35004807692307693\n",
            "Mean fraction of 0's at n=3, r=300: 0.4115384615384615\n",
            "Mean fraction of 0's at n=4, r=100: 0.41009615384615383\n",
            "Mean fraction of 0's at n=4, r=200: 0.486375\n",
            "Mean fraction of 0's at n=4, r=300: 0.5328910256410256\n"
          ]
        }
      ],
      "source": [
        "zeroes_dict = {}\n",
        "\n",
        "for n in tfidf_dict:\n",
        "    zeroes_dict[n] = {}\n",
        "    for r in tfidf_dict[n]:\n",
        "        zeroes_dict[n][r] = [len(vector[vector == 0]) / len(vector) for vector in tfidf_dict[n][r]]\n",
        "        print(f'Mean fraction of 0\\'s at n={n}, r={r}: {np.mean(zeroes_dict[n][r])}')"
      ]
    },
    {
      "cell_type": "code",
      "execution_count": 6,
      "metadata": {
        "colab": {
          "base_uri": "https://localhost:8080/"
        },
        "id": "6YveIeniKN7Z",
        "outputId": "fb6ff352-e284-4094-d16b-ba0d5bc25a9f"
      },
      "outputs": [
        {
          "name": "stdout",
          "output_type": "stream",
          "text": [
            "The shortest text is no. 73 and the longest is no. 236.\n",
            "The shortest text has a sparsity of 0.6062758807396295 and zero fraction of 0.7138888888888889\n",
            "The longest text has a sparsity of 0.29063042565638314 and zero fraction of 0.03944444444444444\n"
          ]
        }
      ],
      "source": [
        "print('The shortest text is no. 73 and the longest is no. 236.')\n",
        "n = 3\n",
        "r = 300\n",
        "mean_sparsity_text73 = []\n",
        "mean_zeroes_text73 = []\n",
        "mean_sparsity_text236 = []\n",
        "mean_zeroes_text236 = []\n",
        "for n in tfidf_dict:\n",
        "    for r in tfidf_dict[n]:\n",
        "        mean_sparsity_text73.append(sparsity_dict[n][r][69])\n",
        "        mean_zeroes_text73.append(zeroes_dict[n][r][69])\n",
        "        mean_sparsity_text236.append(sparsity_dict[n][r][202])\n",
        "        mean_zeroes_text236.append(zeroes_dict[n][r][202])\n",
        "\n",
        "mean_sparsity_text73 = sum(mean_sparsity_text73) / len(mean_sparsity_text73)\n",
        "mean_zeroes_text73 = sum(mean_zeroes_text73) / len(mean_zeroes_text73)\n",
        "mean_sparsity_text236 = sum(mean_sparsity_text236) / len(mean_sparsity_text236)\n",
        "mean_zeroes_text236 = sum(mean_zeroes_text236) / len(mean_zeroes_text236)\n",
        "print(f'The shortest text has a sparsity of {mean_sparsity_text73} and zero fraction of {mean_zeroes_text73}')\n",
        "print(f'The longest text has a sparsity of {mean_sparsity_text236} and zero fraction of {mean_zeroes_text236}')"
      ]
    },
    {
      "cell_type": "code",
      "execution_count": 7,
      "metadata": {
        "colab": {
          "base_uri": "https://localhost:8080/",
          "height": 361
        },
        "id": "sWjwZPm_LEwC",
        "outputId": "287eda90-a91c-4006-8a3b-caea7601a480"
      },
      "outputs": [],
      "source": [
        "medlatin1_texts, medlatin1_authors, medlatin_titles = medlatin.load_medlatin('../MedLatin/Corpora/MedLatinEpi')\n",
        "\n",
        "author_changes_idx = [i for i in range(len(medlatin1_authors)) if medlatin1_authors[i-1] != medlatin1_authors[i]]\n",
        "author_changes_names = [medlatin1_authors[i] for i in author_changes_idx]\n",
        "\n",
        "# Clara, and Misc have too few texts and they mess with the clustering\n",
        "# let's try running the experiments without their texts to see the results\n",
        "from_dante_idx = author_changes_idx[author_changes_names.index('Dante')]\n",
        "to_misc_idx = author_changes_idx[author_changes_names.index('Misc')]\n",
        "from_vigna_idx = author_changes_idx[author_changes_names.index('PierDellaVigna')]\n",
        "\n",
        "# this results in 260 texts\n",
        "medlatin1_texts = medlatin1_texts[from_dante_idx:to_misc_idx] + medlatin1_texts[from_vigna_idx:]"
      ]
    },
    {
      "cell_type": "code",
      "execution_count": 8,
      "metadata": {
        "id": "pF-luEY5C4-S"
      },
      "outputs": [],
      "source": [
        "chars = [len(text) for text in medlatin1_texts]"
      ]
    },
    {
      "cell_type": "code",
      "execution_count": 9,
      "metadata": {
        "colab": {
          "base_uri": "https://localhost:8080/"
        },
        "id": "CdMeqlujDAjn",
        "outputId": "9edeb17c-4383-4294-c645-39724b3a7972"
      },
      "outputs": [
        {
          "name": "stdout",
          "output_type": "stream",
          "text": [
            "2\n",
            "100\n",
            "              chars  sparsity  zero_frac\n",
            "chars      1.000000 -0.559812  -0.714809\n",
            "sparsity  -0.559812  1.000000   0.874772\n",
            "zero_frac -0.714809  0.874772   1.000000\n",
            "200\n",
            "              chars  sparsity  zero_frac\n",
            "chars      1.000000 -0.645313  -0.781772\n",
            "sparsity  -0.645313  1.000000   0.912125\n",
            "zero_frac -0.781772  0.912125   1.000000\n",
            "300\n",
            "              chars  sparsity  zero_frac\n",
            "chars      1.000000 -0.676991  -0.847319\n",
            "sparsity  -0.676991  1.000000   0.913318\n",
            "zero_frac -0.847319  0.913318   1.000000\n",
            "3\n",
            "100\n",
            "              chars  sparsity  zero_frac\n",
            "chars      1.000000 -0.652849  -0.728533\n",
            "sparsity  -0.652849  1.000000   0.958308\n",
            "zero_frac -0.728533  0.958308   1.000000\n",
            "200\n",
            "              chars  sparsity  zero_frac\n",
            "chars      1.000000 -0.707441  -0.772657\n",
            "sparsity  -0.707441  1.000000   0.972300\n",
            "zero_frac -0.772657  0.972300   1.000000\n",
            "300\n",
            "              chars  sparsity  zero_frac\n",
            "chars      1.000000 -0.733455  -0.798782\n",
            "sparsity  -0.733455  1.000000   0.976896\n",
            "zero_frac -0.798782  0.976896   1.000000\n",
            "4\n",
            "100\n",
            "              chars  sparsity  zero_frac\n",
            "chars      1.000000 -0.748803  -0.781206\n",
            "sparsity  -0.748803  1.000000   0.978817\n",
            "zero_frac -0.781206  0.978817   1.000000\n",
            "200\n",
            "              chars  sparsity  zero_frac\n",
            "chars      1.000000 -0.769694  -0.810779\n",
            "sparsity  -0.769694  1.000000   0.981773\n",
            "zero_frac -0.810779  0.981773   1.000000\n",
            "300\n",
            "              chars  sparsity  zero_frac\n",
            "chars      1.000000 -0.786330  -0.828405\n",
            "sparsity  -0.786330  1.000000   0.983185\n",
            "zero_frac -0.828405  0.983185   1.000000\n"
          ]
        }
      ],
      "source": [
        "density_df_dict = {}\n",
        "for n in tfidf_dict:\n",
        "    density_df_dict[n] = {}\n",
        "    print(n)\n",
        "    for r in tfidf_dict[n]:\n",
        "        density_df_dict[n][r] = {}\n",
        "        density_df_dict[n][r]['df'] = pd.DataFrame(columns=['chars', 'sparsity', 'zero_frac'])\n",
        "        sparsities = []\n",
        "        zeroes = []\n",
        "        print(r)\n",
        "        for vec in tfidf_dict[n][r]:\n",
        "            sparsities.append(sparsity(vec))\n",
        "            zeroes.append(len(vec[vec == 0]) / len(vec))\n",
        "        density_df_dict[n][r]['df']['chars'] = chars\n",
        "        density_df_dict[n][r]['df']['sparsity'] = sparsities\n",
        "        density_df_dict[n][r]['df']['zero_frac'] = zeroes\n",
        "        density_df_dict[n][r]['corrs'] = density_df_dict[n][r]['df'].corr()\n",
        "        print(density_df_dict[n][r]['corrs'])"
      ]
    },
    {
      "cell_type": "code",
      "execution_count": 10,
      "metadata": {
        "colab": {
          "base_uri": "https://localhost:8080/",
          "height": 143
        },
        "id": "SXvxXxFRFT5Q",
        "outputId": "af72bb0c-683b-4b1a-e80d-698f8e3a5eac"
      },
      "outputs": [
        {
          "data": {
            "text/html": [
              "<div>\n",
              "<style scoped>\n",
              "    .dataframe tbody tr th:only-of-type {\n",
              "        vertical-align: middle;\n",
              "    }\n",
              "\n",
              "    .dataframe tbody tr th {\n",
              "        vertical-align: top;\n",
              "    }\n",
              "\n",
              "    .dataframe thead th {\n",
              "        text-align: right;\n",
              "    }\n",
              "</style>\n",
              "<table border=\"1\" class=\"dataframe\">\n",
              "  <thead>\n",
              "    <tr style=\"text-align: right;\">\n",
              "      <th></th>\n",
              "      <th>chars</th>\n",
              "      <th>sparsity</th>\n",
              "      <th>zero_frac</th>\n",
              "    </tr>\n",
              "  </thead>\n",
              "  <tbody>\n",
              "    <tr>\n",
              "      <th>chars</th>\n",
              "      <td>1.000000</td>\n",
              "      <td>-0.733455</td>\n",
              "      <td>-0.798782</td>\n",
              "    </tr>\n",
              "    <tr>\n",
              "      <th>sparsity</th>\n",
              "      <td>-0.733455</td>\n",
              "      <td>1.000000</td>\n",
              "      <td>0.976896</td>\n",
              "    </tr>\n",
              "    <tr>\n",
              "      <th>zero_frac</th>\n",
              "      <td>-0.798782</td>\n",
              "      <td>0.976896</td>\n",
              "      <td>1.000000</td>\n",
              "    </tr>\n",
              "  </tbody>\n",
              "</table>\n",
              "</div>"
            ],
            "text/plain": [
              "              chars  sparsity  zero_frac\n",
              "chars      1.000000 -0.733455  -0.798782\n",
              "sparsity  -0.733455  1.000000   0.976896\n",
              "zero_frac -0.798782  0.976896   1.000000"
            ]
          },
          "execution_count": 10,
          "metadata": {},
          "output_type": "execute_result"
        }
      ],
      "source": [
        "n = 3\n",
        "r = 300\n",
        "density_df_dict[n][r]['corrs']"
      ]
    },
    {
      "cell_type": "code",
      "execution_count": 11,
      "metadata": {
        "colab": {
          "base_uri": "https://localhost:8080/",
          "height": 178
        },
        "id": "khdMeKoGJTgy",
        "outputId": "b0ddb195-cbae-4f67-816b-b09cfdda2d5a"
      },
      "outputs": [
        {
          "data": {
            "text/plain": [
              "chars        334.000000\n",
              "sparsity       0.628509\n",
              "zero_frac      0.771667\n",
              "Name: 69, dtype: float64"
            ]
          },
          "execution_count": 11,
          "metadata": {},
          "output_type": "execute_result"
        }
      ],
      "source": [
        "density_df_dict[n][r]['df'].iloc[density_df_dict[n][r]['df']['chars'].argmin()]"
      ]
    },
    {
      "cell_type": "code",
      "execution_count": 12,
      "metadata": {
        "colab": {
          "base_uri": "https://localhost:8080/",
          "height": 178
        },
        "id": "KcxU_2NkIt7S",
        "outputId": "28f1d287-8403-45c9-cad7-48d008294aae"
      },
      "outputs": [
        {
          "data": {
            "text/plain": [
              "chars        24160.000000\n",
              "sparsity         0.309818\n",
              "zero_frac        0.041667\n",
              "Name: 202, dtype: float64"
            ]
          },
          "execution_count": 12,
          "metadata": {},
          "output_type": "execute_result"
        }
      ],
      "source": [
        "density_df_dict[n][r]['df'].iloc[density_df_dict[n][r]['df']['chars'].argmax()]"
      ]
    }
  ],
  "metadata": {
    "colab": {
      "provenance": []
    },
    "kernelspec": {
      "display_name": ".venv",
      "language": "python",
      "name": "python3"
    },
    "language_info": {
      "codemirror_mode": {
        "name": "ipython",
        "version": 3
      },
      "file_extension": ".py",
      "mimetype": "text/x-python",
      "name": "python",
      "nbconvert_exporter": "python",
      "pygments_lexer": "ipython3",
      "version": "3.11.2"
    }
  },
  "nbformat": 4,
  "nbformat_minor": 0
}
