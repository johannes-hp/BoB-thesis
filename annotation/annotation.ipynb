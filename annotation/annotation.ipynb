{
  "cells": [
    {
      "cell_type": "code",
      "execution_count": 6,
      "metadata": {
        "id": "1IlM6jJL7mOf"
      },
      "outputs": [],
      "source": [
        "import pandas as pd\n",
        "import os\n",
        "import re\n",
        "from sklearn.metrics import f1_score\n",
        "\n",
        "def process_annotation_csvs(folder_path):\n",
        "    new_dfs = {}\n",
        "    for filename in os.listdir(folder_path):\n",
        "        if filename.endswith(\"_AG.csv\"):\n",
        "            file_path = os.path.join(folder_path, filename)\n",
        "            df = pd.read_csv(file_path, sep='\\t')\n",
        "            new_df = fill_missing_annotation(df)\n",
        "            df_name = re.search('\\d+', filename).group()\n",
        "            new_dfs[df_name] = new_df\n",
        "    return new_dfs\n",
        "\n",
        "def fill_missing_annotation(df):\n",
        "    for i in range(len(df)):\n",
        "        if pd.isna(df.iloc[i].annotation):\n",
        "            df.iloc[i].annotation = df.iloc[i].pos\n",
        "    return df"
      ]
    },
    {
      "cell_type": "code",
      "execution_count": 8,
      "metadata": {
        "id": "xLgKR8WVdWBA"
      },
      "outputs": [],
      "source": [
        "df_dict = process_annotation_csvs(os.getcwd())\n",
        "df_accs = []\n",
        "df_names = []\n",
        "df_f1s = []\n",
        "for key in df_dict.keys():\n",
        "    current_df = df_dict[key]\n",
        "    current_df['correct'] = (current_df.annotation == current_df.pos).astype(int)\n",
        "    current_acc = sum(current_df.correct)/len(current_df)\n",
        "    current_f1 = f1_score(current_df.annotation, current_df.pos, average='weighted')\n",
        "    df_f1s.append(current_f1)\n",
        "    df_names.append(key)\n",
        "    df_accs.append(current_acc)"
      ]
    },
    {
      "cell_type": "code",
      "execution_count": 9,
      "metadata": {
        "id": "3-kZ_bZah2v_"
      },
      "outputs": [],
      "source": [
        "df_acc = pd.DataFrame(columns=['epitome', 'annot_acc', 'annot_f1'])\n",
        "df_acc.epitome = df_names\n",
        "df_acc.annot_acc = df_accs\n",
        "df_acc.annot_f1 = df_f1s"
      ]
    },
    {
      "cell_type": "code",
      "execution_count": 10,
      "metadata": {
        "colab": {
          "base_uri": "https://localhost:8080/",
          "height": 238
        },
        "id": "pa5SGOiQiITs",
        "outputId": "6b7d88ba-68ae-4f7c-badf-e90bd7654004"
      },
      "outputs": [
        {
          "data": {
            "text/html": [
              "<div>\n",
              "<style scoped>\n",
              "    .dataframe tbody tr th:only-of-type {\n",
              "        vertical-align: middle;\n",
              "    }\n",
              "\n",
              "    .dataframe tbody tr th {\n",
              "        vertical-align: top;\n",
              "    }\n",
              "\n",
              "    .dataframe thead th {\n",
              "        text-align: right;\n",
              "    }\n",
              "</style>\n",
              "<table border=\"1\" class=\"dataframe\">\n",
              "  <thead>\n",
              "    <tr style=\"text-align: right;\">\n",
              "      <th></th>\n",
              "      <th>epitome</th>\n",
              "      <th>annot_acc</th>\n",
              "      <th>annot_f1</th>\n",
              "    </tr>\n",
              "  </thead>\n",
              "  <tbody>\n",
              "    <tr>\n",
              "      <th>0</th>\n",
              "      <td>0190</td>\n",
              "      <td>0.947977</td>\n",
              "      <td>0.941867</td>\n",
              "    </tr>\n",
              "    <tr>\n",
              "      <th>1</th>\n",
              "      <td>0286</td>\n",
              "      <td>0.919192</td>\n",
              "      <td>0.914346</td>\n",
              "    </tr>\n",
              "    <tr>\n",
              "      <th>2</th>\n",
              "      <td>0432</td>\n",
              "      <td>0.957746</td>\n",
              "      <td>0.955509</td>\n",
              "    </tr>\n",
              "    <tr>\n",
              "      <th>3</th>\n",
              "      <td>0584</td>\n",
              "      <td>0.977612</td>\n",
              "      <td>0.974656</td>\n",
              "    </tr>\n",
              "    <tr>\n",
              "      <th>4</th>\n",
              "      <td>0915</td>\n",
              "      <td>0.960894</td>\n",
              "      <td>0.962744</td>\n",
              "    </tr>\n",
              "    <tr>\n",
              "      <th>5</th>\n",
              "      <td>1406</td>\n",
              "      <td>0.954455</td>\n",
              "      <td>0.949060</td>\n",
              "    </tr>\n",
              "  </tbody>\n",
              "</table>\n",
              "</div>"
            ],
            "text/plain": [
              "  epitome  annot_acc  annot_f1\n",
              "0    0190   0.947977  0.941867\n",
              "1    0286   0.919192  0.914346\n",
              "2    0432   0.957746  0.955509\n",
              "3    0584   0.977612  0.974656\n",
              "4    0915   0.960894  0.962744\n",
              "5    1406   0.954455  0.949060"
            ]
          },
          "execution_count": 10,
          "metadata": {},
          "output_type": "execute_result"
        }
      ],
      "source": [
        "df_acc.sort_values(by='epitome')"
      ]
    }
  ],
  "metadata": {
    "colab": {
      "provenance": []
    },
    "kernelspec": {
      "display_name": ".venv",
      "language": "python",
      "name": "python3"
    },
    "language_info": {
      "codemirror_mode": {
        "name": "ipython",
        "version": 3
      },
      "file_extension": ".py",
      "mimetype": "text/x-python",
      "name": "python",
      "nbconvert_exporter": "python",
      "pygments_lexer": "ipython3",
      "version": "3.11.2"
    }
  },
  "nbformat": 4,
  "nbformat_minor": 0
}
