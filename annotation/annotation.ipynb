{
  "cells": [
    {
      "cell_type": "code",
      "execution_count": 1,
      "metadata": {
        "id": "1IlM6jJL7mOf"
      },
      "outputs": [],
      "source": [
        "import pandas as pd\n",
        "import os\n",
        "import re\n",
        "from sklearn.metrics import f1_score, cohen_kappa_score\n",
        "\n",
        "def process_annotation_csvs(folder_path: str, annotator: str) -> dict:\n",
        "    assert annotator in ['AG', 'MM']\n",
        "    new_dfs = {}\n",
        "    for filename in os.listdir(folder_path):\n",
        "        if filename.endswith(f\"_{annotator}.csv\"):\n",
        "            file_path = os.path.join(folder_path, filename)\n",
        "            df = pd.read_csv(file_path, sep='\\t')\n",
        "            new_df = fill_missing_annotation(df)\n",
        "            df_name = re.search('\\d+', filename).group()\n",
        "            new_dfs[df_name] = new_df\n",
        "    return new_dfs\n",
        "\n",
        "def fill_missing_annotation(df: pd.DataFrame) -> pd.DataFrame:\n",
        "    for i in range(len(df)):\n",
        "        if pd.isna(df.iloc[i].annotation):\n",
        "            df.iloc[i].annotation = df.iloc[i].pos\n",
        "    return df\n",
        "\n",
        "def accuracy_df(processed_df_dict: dict) -> pd.DataFrame:\n",
        "\n",
        "    df_accs = []\n",
        "    df_names = []\n",
        "    df_f1s = []\n",
        "    for key in processed_df_dict.keys():\n",
        "        current_df = processed_df_dict[key]\n",
        "        current_df['correct'] = (current_df.annotation == current_df.pos).astype(int)\n",
        "        current_acc = sum(current_df.correct)/len(current_df)\n",
        "        current_f1 = f1_score(current_df.annotation, current_df.pos, average='weighted')\n",
        "        df_f1s.append(current_f1)\n",
        "        df_names.append(key)\n",
        "        df_accs.append(current_acc)\n",
        "\n",
        "    df_acc = pd.DataFrame(columns=['epitome', 'annot_acc', 'annot_f1'])\n",
        "    df_acc.epitome = df_names\n",
        "    df_acc.annot_acc = df_accs\n",
        "    df_acc.annot_f1 = df_f1s\n",
        "\n",
        "    return df_acc"
      ]
    },
    {
      "cell_type": "code",
      "execution_count": 2,
      "metadata": {
        "id": "xLgKR8WVdWBA"
      },
      "outputs": [],
      "source": [
        "path = os.getcwd()\n",
        "df_dict_ag = process_annotation_csvs(path, 'AG')\n",
        "df_dict_mm = process_annotation_csvs(path, 'MM')"
      ]
    },
    {
      "cell_type": "code",
      "execution_count": 3,
      "metadata": {
        "colab": {
          "base_uri": "https://localhost:8080/",
          "height": 238
        },
        "id": "pa5SGOiQiITs",
        "outputId": "6b7d88ba-68ae-4f7c-badf-e90bd7654004"
      },
      "outputs": [],
      "source": [
        "df_acc_ag = accuracy_df(df_dict_ag)\n",
        "df_acc_mm = accuracy_df(df_dict_mm)"
      ]
    },
    {
      "cell_type": "code",
      "execution_count": 4,
      "metadata": {},
      "outputs": [
        {
          "data": {
            "text/html": [
              "<div>\n",
              "<style scoped>\n",
              "    .dataframe tbody tr th:only-of-type {\n",
              "        vertical-align: middle;\n",
              "    }\n",
              "\n",
              "    .dataframe tbody tr th {\n",
              "        vertical-align: top;\n",
              "    }\n",
              "\n",
              "    .dataframe thead th {\n",
              "        text-align: right;\n",
              "    }\n",
              "</style>\n",
              "<table border=\"1\" class=\"dataframe\">\n",
              "  <thead>\n",
              "    <tr style=\"text-align: right;\">\n",
              "      <th></th>\n",
              "      <th>epitome</th>\n",
              "      <th>annot_acc</th>\n",
              "      <th>annot_f1</th>\n",
              "    </tr>\n",
              "  </thead>\n",
              "  <tbody>\n",
              "    <tr>\n",
              "      <th>0</th>\n",
              "      <td>0190</td>\n",
              "      <td>0.947977</td>\n",
              "      <td>0.941867</td>\n",
              "    </tr>\n",
              "    <tr>\n",
              "      <th>1</th>\n",
              "      <td>0286</td>\n",
              "      <td>0.919192</td>\n",
              "      <td>0.914346</td>\n",
              "    </tr>\n",
              "    <tr>\n",
              "      <th>2</th>\n",
              "      <td>0432</td>\n",
              "      <td>0.957746</td>\n",
              "      <td>0.955509</td>\n",
              "    </tr>\n",
              "    <tr>\n",
              "      <th>3</th>\n",
              "      <td>0584</td>\n",
              "      <td>0.977612</td>\n",
              "      <td>0.974656</td>\n",
              "    </tr>\n",
              "    <tr>\n",
              "      <th>4</th>\n",
              "      <td>0915</td>\n",
              "      <td>0.960894</td>\n",
              "      <td>0.962744</td>\n",
              "    </tr>\n",
              "    <tr>\n",
              "      <th>5</th>\n",
              "      <td>1406</td>\n",
              "      <td>0.954455</td>\n",
              "      <td>0.949060</td>\n",
              "    </tr>\n",
              "    <tr>\n",
              "      <th>6</th>\n",
              "      <td>1616</td>\n",
              "      <td>0.937824</td>\n",
              "      <td>0.928352</td>\n",
              "    </tr>\n",
              "    <tr>\n",
              "      <th>7</th>\n",
              "      <td>1717</td>\n",
              "      <td>0.929825</td>\n",
              "      <td>0.930375</td>\n",
              "    </tr>\n",
              "    <tr>\n",
              "      <th>8</th>\n",
              "      <td>1904</td>\n",
              "      <td>0.951583</td>\n",
              "      <td>0.943427</td>\n",
              "    </tr>\n",
              "    <tr>\n",
              "      <th>9</th>\n",
              "      <td>2309</td>\n",
              "      <td>0.949640</td>\n",
              "      <td>0.945366</td>\n",
              "    </tr>\n",
              "  </tbody>\n",
              "</table>\n",
              "</div>"
            ],
            "text/plain": [
              "  epitome  annot_acc  annot_f1\n",
              "0    0190   0.947977  0.941867\n",
              "1    0286   0.919192  0.914346\n",
              "2    0432   0.957746  0.955509\n",
              "3    0584   0.977612  0.974656\n",
              "4    0915   0.960894  0.962744\n",
              "5    1406   0.954455  0.949060\n",
              "6    1616   0.937824  0.928352\n",
              "7    1717   0.929825  0.930375\n",
              "8    1904   0.951583  0.943427\n",
              "9    2309   0.949640  0.945366"
            ]
          },
          "execution_count": 4,
          "metadata": {},
          "output_type": "execute_result"
        }
      ],
      "source": [
        "df_acc_ag"
      ]
    },
    {
      "cell_type": "code",
      "execution_count": 5,
      "metadata": {},
      "outputs": [
        {
          "data": {
            "text/html": [
              "<div>\n",
              "<style scoped>\n",
              "    .dataframe tbody tr th:only-of-type {\n",
              "        vertical-align: middle;\n",
              "    }\n",
              "\n",
              "    .dataframe tbody tr th {\n",
              "        vertical-align: top;\n",
              "    }\n",
              "\n",
              "    .dataframe thead th {\n",
              "        text-align: right;\n",
              "    }\n",
              "</style>\n",
              "<table border=\"1\" class=\"dataframe\">\n",
              "  <thead>\n",
              "    <tr style=\"text-align: right;\">\n",
              "      <th></th>\n",
              "      <th>epitome</th>\n",
              "      <th>annot_acc</th>\n",
              "      <th>annot_f1</th>\n",
              "    </tr>\n",
              "  </thead>\n",
              "  <tbody>\n",
              "    <tr>\n",
              "      <th>0</th>\n",
              "      <td>0190</td>\n",
              "      <td>0.895954</td>\n",
              "      <td>0.874162</td>\n",
              "    </tr>\n",
              "    <tr>\n",
              "      <th>1</th>\n",
              "      <td>1616</td>\n",
              "      <td>0.901554</td>\n",
              "      <td>0.887017</td>\n",
              "    </tr>\n",
              "    <tr>\n",
              "      <th>2</th>\n",
              "      <td>1717</td>\n",
              "      <td>0.877193</td>\n",
              "      <td>0.894625</td>\n",
              "    </tr>\n",
              "  </tbody>\n",
              "</table>\n",
              "</div>"
            ],
            "text/plain": [
              "  epitome  annot_acc  annot_f1\n",
              "0    0190   0.895954  0.874162\n",
              "1    1616   0.901554  0.887017\n",
              "2    1717   0.877193  0.894625"
            ]
          },
          "execution_count": 5,
          "metadata": {},
          "output_type": "execute_result"
        }
      ],
      "source": [
        "df_acc_mm"
      ]
    },
    {
      "cell_type": "code",
      "execution_count": 25,
      "metadata": {},
      "outputs": [],
      "source": [
        "df_iaa = pd.DataFrame(columns=['epitome', 'cohen_kappa', 'intersect_cohen_kappa'])\n",
        "df_iaa_epitomes = []\n",
        "df_iaa_kappas = []\n",
        "df_iaa_intersect_kappas = []\n",
        "for epitome in df_dict_mm.keys():\n",
        "    kappa = cohen_kappa_score(df_dict_mm[epitome].annotation, df_dict_ag[epitome].annotation)\n",
        "    # this finds all occurrences where ag/mm did not agree with the tagger\n",
        "    disagreement_ag = df_dict_ag[epitome][df_dict_ag[epitome].annotation != df_dict_ag[epitome].pos].index\n",
        "    disagreement_mm = df_dict_mm[epitome][df_dict_mm[epitome].annotation != df_dict_mm[epitome].pos].index\n",
        "    # this then finds the indices where both ag and mm disagreed with the tagger (i.e. the intersect)\n",
        "    disagreement_intersect = list(set(disagreement_ag) & set(disagreement_mm))\n",
        "    # finally we can calculate the iaa for only those tags where both disagreed with the tagger\n",
        "    intersect_kappa = cohen_kappa_score(df_dict_ag[epitome].iloc[disagreement_intersect].annotation, \n",
        "                                        df_dict_mm[epitome].iloc[disagreement_intersect].annotation)\n",
        "    \n",
        "    df_iaa_epitomes.append(epitome)\n",
        "    df_iaa_kappas.append(kappa)\n",
        "    df_iaa_intersect_kappas.append(intersect_kappa)\n",
        "\n",
        "\n",
        "df_iaa.epitome = df_iaa_epitomes\n",
        "df_iaa.cohen_kappa = df_iaa_kappas\n",
        "df_iaa.intersect_cohen_kappa = df_iaa_intersect_kappas"
      ]
    },
    {
      "cell_type": "code",
      "execution_count": 26,
      "metadata": {},
      "outputs": [
        {
          "data": {
            "text/html": [
              "<div>\n",
              "<style scoped>\n",
              "    .dataframe tbody tr th:only-of-type {\n",
              "        vertical-align: middle;\n",
              "    }\n",
              "\n",
              "    .dataframe tbody tr th {\n",
              "        vertical-align: top;\n",
              "    }\n",
              "\n",
              "    .dataframe thead th {\n",
              "        text-align: right;\n",
              "    }\n",
              "</style>\n",
              "<table border=\"1\" class=\"dataframe\">\n",
              "  <thead>\n",
              "    <tr style=\"text-align: right;\">\n",
              "      <th></th>\n",
              "      <th>epitome</th>\n",
              "      <th>cohen_kappa</th>\n",
              "      <th>intersect_cohen_kappa</th>\n",
              "    </tr>\n",
              "  </thead>\n",
              "  <tbody>\n",
              "    <tr>\n",
              "      <th>0</th>\n",
              "      <td>0190</td>\n",
              "      <td>0.933400</td>\n",
              "      <td>0.857143</td>\n",
              "    </tr>\n",
              "    <tr>\n",
              "      <th>1</th>\n",
              "      <td>1616</td>\n",
              "      <td>0.917850</td>\n",
              "      <td>0.854839</td>\n",
              "    </tr>\n",
              "    <tr>\n",
              "      <th>2</th>\n",
              "      <td>1717</td>\n",
              "      <td>0.937017</td>\n",
              "      <td>1.000000</td>\n",
              "    </tr>\n",
              "  </tbody>\n",
              "</table>\n",
              "</div>"
            ],
            "text/plain": [
              "  epitome  cohen_kappa  intersect_cohen_kappa\n",
              "0    0190     0.933400               0.857143\n",
              "1    1616     0.917850               0.854839\n",
              "2    1717     0.937017               1.000000"
            ]
          },
          "execution_count": 26,
          "metadata": {},
          "output_type": "execute_result"
        }
      ],
      "source": [
        "df_iaa"
      ]
    }
  ],
  "metadata": {
    "colab": {
      "provenance": []
    },
    "kernelspec": {
      "display_name": ".venv",
      "language": "python",
      "name": "python3"
    },
    "language_info": {
      "codemirror_mode": {
        "name": "ipython",
        "version": 3
      },
      "file_extension": ".py",
      "mimetype": "text/x-python",
      "name": "python",
      "nbconvert_exporter": "python",
      "pygments_lexer": "ipython3",
      "version": "3.11.2"
    }
  },
  "nbformat": 4,
  "nbformat_minor": 0
}
